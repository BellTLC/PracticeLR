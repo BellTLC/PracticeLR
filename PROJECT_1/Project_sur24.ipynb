{
 "cells": [
  {
   "cell_type": "code",
   "execution_count": 1,
   "id": "3e173e80",
   "metadata": {},
   "outputs": [],
   "source": [
    "## Load packages and check versions\n",
    "import pandas as pd\n",
    "import numpy as np\n",
    "import sklearn.model_selection as ms\n",
    "from sklearn.linear_model import LinearRegression\n",
    "import matplotlib.pyplot as plt\n",
    "\n",
    "## Download the excel file from the next site\n",
    "# https://www.brentozar.com/archive/2024/01/announcing-the-2024-data-professional-salary-survey-results/"
   ]
  },
  {
   "cell_type": "code",
   "execution_count": 2,
   "id": "327aff2f",
   "metadata": {
    "scrolled": true
   },
   "outputs": [
    {
     "data": {
      "text/html": [
       "<div>\n",
       "<style scoped>\n",
       "    .dataframe tbody tr th:only-of-type {\n",
       "        vertical-align: middle;\n",
       "    }\n",
       "\n",
       "    .dataframe tbody tr th {\n",
       "        vertical-align: top;\n",
       "    }\n",
       "\n",
       "    .dataframe thead th {\n",
       "        text-align: right;\n",
       "    }\n",
       "</style>\n",
       "<table border=\"1\" class=\"dataframe\">\n",
       "  <thead>\n",
       "    <tr style=\"text-align: right;\">\n",
       "      <th></th>\n",
       "      <th>Survey Year</th>\n",
       "      <th>Timestamp</th>\n",
       "      <th>SalaryUSD</th>\n",
       "      <th>Country</th>\n",
       "      <th>PostalCode</th>\n",
       "      <th>PrimaryDatabase</th>\n",
       "      <th>YearsWithThisDatabase</th>\n",
       "      <th>OtherDatabases</th>\n",
       "      <th>EmploymentStatus</th>\n",
       "      <th>JobTitle</th>\n",
       "      <th>...</th>\n",
       "      <th>NewestVersionInProduction</th>\n",
       "      <th>OldestVersionInProduction</th>\n",
       "      <th>PopulationOfLargestCityWithin20Miles</th>\n",
       "      <th>EmploymentSector</th>\n",
       "      <th>LookingForAnotherJob</th>\n",
       "      <th>CareerPlansThisYear</th>\n",
       "      <th>Gender</th>\n",
       "      <th>OtherJobDuties</th>\n",
       "      <th>KindsOfTasksPerformed</th>\n",
       "      <th>Counter</th>\n",
       "    </tr>\n",
       "  </thead>\n",
       "  <tbody>\n",
       "    <tr>\n",
       "      <th>0</th>\n",
       "      <td>2024</td>\n",
       "      <td>2024-01-04 03:27:56.694</td>\n",
       "      <td>248000.0</td>\n",
       "      <td>United States</td>\n",
       "      <td>53593</td>\n",
       "      <td>Microsoft SQL Server</td>\n",
       "      <td>10</td>\n",
       "      <td>Microsoft SQL Server, Oracle, Azure SQL DB (an...</td>\n",
       "      <td>Full time employee</td>\n",
       "      <td>Developer: App code (C#, JS, etc)</td>\n",
       "      <td>...</td>\n",
       "      <td>Not Asked</td>\n",
       "      <td>Not Asked</td>\n",
       "      <td>100K-299K (city)</td>\n",
       "      <td>Private business</td>\n",
       "      <td>Not Asked</td>\n",
       "      <td>Stay with the same employer, same role</td>\n",
       "      <td>Male</td>\n",
       "      <td>Not Asked</td>\n",
       "      <td>Not Asked</td>\n",
       "      <td>1</td>\n",
       "    </tr>\n",
       "    <tr>\n",
       "      <th>1</th>\n",
       "      <td>2024</td>\n",
       "      <td>2024-01-03 16:37:44.083</td>\n",
       "      <td>175000.0</td>\n",
       "      <td>Germany</td>\n",
       "      <td>NaN</td>\n",
       "      <td>Microsoft SQL Server</td>\n",
       "      <td>20</td>\n",
       "      <td>SQLite, Azure SQL DB (any flavor)</td>\n",
       "      <td>Full time employee</td>\n",
       "      <td>Manager</td>\n",
       "      <td>...</td>\n",
       "      <td>Not Asked</td>\n",
       "      <td>Not Asked</td>\n",
       "      <td>1M+ (metropolis)</td>\n",
       "      <td>Private business</td>\n",
       "      <td>Not Asked</td>\n",
       "      <td>Stay with the same employer,  but change roles</td>\n",
       "      <td>Male</td>\n",
       "      <td>Not Asked</td>\n",
       "      <td>Not Asked</td>\n",
       "      <td>1</td>\n",
       "    </tr>\n",
       "    <tr>\n",
       "      <th>2</th>\n",
       "      <td>2024</td>\n",
       "      <td>2024-01-03 13:55:38.746</td>\n",
       "      <td>131000.0</td>\n",
       "      <td>United Kingdom</td>\n",
       "      <td>NaN</td>\n",
       "      <td>Microsoft SQL Server</td>\n",
       "      <td>17</td>\n",
       "      <td>MongoDB</td>\n",
       "      <td>Full time employee</td>\n",
       "      <td>DBA (General - splits time evenly between writ...</td>\n",
       "      <td>...</td>\n",
       "      <td>Not Asked</td>\n",
       "      <td>Not Asked</td>\n",
       "      <td>300K-1M (large city)</td>\n",
       "      <td>Private business</td>\n",
       "      <td>Not Asked</td>\n",
       "      <td>Stay with the same employer, same role</td>\n",
       "      <td>Male</td>\n",
       "      <td>Not Asked</td>\n",
       "      <td>Not Asked</td>\n",
       "      <td>1</td>\n",
       "    </tr>\n",
       "    <tr>\n",
       "      <th>3</th>\n",
       "      <td>2024</td>\n",
       "      <td>2024-01-03 12:54:15.524</td>\n",
       "      <td>129000.0</td>\n",
       "      <td>United Kingdom</td>\n",
       "      <td>WC2E 9ES</td>\n",
       "      <td>Microsoft SQL Server</td>\n",
       "      <td>12</td>\n",
       "      <td>MySQL/MariaDB, PostgreSQL, Cassandra, Amazon R...</td>\n",
       "      <td>Full time employee</td>\n",
       "      <td>DBA (General - splits time evenly between writ...</td>\n",
       "      <td>...</td>\n",
       "      <td>Not Asked</td>\n",
       "      <td>Not Asked</td>\n",
       "      <td>1M+ (metropolis)</td>\n",
       "      <td>Private business</td>\n",
       "      <td>Not Asked</td>\n",
       "      <td>Stay with the same employer, same role</td>\n",
       "      <td>Male</td>\n",
       "      <td>Not Asked</td>\n",
       "      <td>Not Asked</td>\n",
       "      <td>1</td>\n",
       "    </tr>\n",
       "    <tr>\n",
       "      <th>4</th>\n",
       "      <td>2024</td>\n",
       "      <td>2024-01-03 04:39:15.265</td>\n",
       "      <td>120000.0</td>\n",
       "      <td>United States</td>\n",
       "      <td>33179</td>\n",
       "      <td>Microsoft SQL Server</td>\n",
       "      <td>6</td>\n",
       "      <td>Microsoft SQL Server, PostgreSQL, Microsoft Ac...</td>\n",
       "      <td>Full time employee</td>\n",
       "      <td>Manager</td>\n",
       "      <td>...</td>\n",
       "      <td>Not Asked</td>\n",
       "      <td>Not Asked</td>\n",
       "      <td>300K-1M (large city)</td>\n",
       "      <td>Private business</td>\n",
       "      <td>Not Asked</td>\n",
       "      <td>Stay with the same employer, same role</td>\n",
       "      <td>Prefer not to say</td>\n",
       "      <td>Not Asked</td>\n",
       "      <td>Not Asked</td>\n",
       "      <td>1</td>\n",
       "    </tr>\n",
       "  </tbody>\n",
       "</table>\n",
       "<p>5 rows × 31 columns</p>\n",
       "</div>"
      ],
      "text/plain": [
       "   Survey Year               Timestamp  SalaryUSD         Country PostalCode  \\\n",
       "0         2024 2024-01-04 03:27:56.694   248000.0   United States      53593   \n",
       "1         2024 2024-01-03 16:37:44.083   175000.0         Germany        NaN   \n",
       "2         2024 2024-01-03 13:55:38.746   131000.0  United Kingdom        NaN   \n",
       "3         2024 2024-01-03 12:54:15.524   129000.0  United Kingdom   WC2E 9ES   \n",
       "4         2024 2024-01-03 04:39:15.265   120000.0   United States      33179   \n",
       "\n",
       "        PrimaryDatabase  YearsWithThisDatabase  \\\n",
       "0  Microsoft SQL Server                     10   \n",
       "1  Microsoft SQL Server                     20   \n",
       "2  Microsoft SQL Server                     17   \n",
       "3  Microsoft SQL Server                     12   \n",
       "4  Microsoft SQL Server                      6   \n",
       "\n",
       "                                      OtherDatabases    EmploymentStatus  \\\n",
       "0  Microsoft SQL Server, Oracle, Azure SQL DB (an...  Full time employee   \n",
       "1                  SQLite, Azure SQL DB (any flavor)  Full time employee   \n",
       "2                                            MongoDB  Full time employee   \n",
       "3  MySQL/MariaDB, PostgreSQL, Cassandra, Amazon R...  Full time employee   \n",
       "4  Microsoft SQL Server, PostgreSQL, Microsoft Ac...  Full time employee   \n",
       "\n",
       "                                            JobTitle  ...  \\\n",
       "0                  Developer: App code (C#, JS, etc)  ...   \n",
       "1                                            Manager  ...   \n",
       "2  DBA (General - splits time evenly between writ...  ...   \n",
       "3  DBA (General - splits time evenly between writ...  ...   \n",
       "4                                            Manager  ...   \n",
       "\n",
       "  NewestVersionInProduction  OldestVersionInProduction  \\\n",
       "0                 Not Asked                  Not Asked   \n",
       "1                 Not Asked                  Not Asked   \n",
       "2                 Not Asked                  Not Asked   \n",
       "3                 Not Asked                  Not Asked   \n",
       "4                 Not Asked                  Not Asked   \n",
       "\n",
       "  PopulationOfLargestCityWithin20Miles  EmploymentSector LookingForAnotherJob  \\\n",
       "0                     100K-299K (city)  Private business            Not Asked   \n",
       "1                     1M+ (metropolis)  Private business            Not Asked   \n",
       "2                 300K-1M (large city)  Private business            Not Asked   \n",
       "3                     1M+ (metropolis)  Private business            Not Asked   \n",
       "4                 300K-1M (large city)  Private business            Not Asked   \n",
       "\n",
       "                              CareerPlansThisYear             Gender  \\\n",
       "0          Stay with the same employer, same role               Male   \n",
       "1  Stay with the same employer,  but change roles               Male   \n",
       "2          Stay with the same employer, same role               Male   \n",
       "3          Stay with the same employer, same role               Male   \n",
       "4          Stay with the same employer, same role  Prefer not to say   \n",
       "\n",
       "  OtherJobDuties KindsOfTasksPerformed Counter  \n",
       "0      Not Asked             Not Asked       1  \n",
       "1      Not Asked             Not Asked       1  \n",
       "2      Not Asked             Not Asked       1  \n",
       "3      Not Asked             Not Asked       1  \n",
       "4      Not Asked             Not Asked       1  \n",
       "\n",
       "[5 rows x 31 columns]"
      ]
     },
     "execution_count": 2,
     "metadata": {},
     "output_type": "execute_result"
    }
   ],
   "source": [
    "## Load Data\n",
    "df = pd.read_excel('./Data_Professional_Salary_Survey_ResponsesTest.xlsx')\n",
    "\n",
    "## Show the first five lines\n",
    "df.head()"
   ]
  },
  {
   "cell_type": "code",
   "execution_count": 3,
   "id": "3689cff6",
   "metadata": {},
   "outputs": [
    {
     "data": {
      "text/plain": [
       "Index(['Survey Year', 'Timestamp', 'SalaryUSD', 'Country', 'PostalCode',\n",
       "       'PrimaryDatabase', 'YearsWithThisDatabase', 'OtherDatabases',\n",
       "       'EmploymentStatus', 'JobTitle', 'ManageStaff', 'YearsWithThisTypeOfJob',\n",
       "       'HowManyCompanies', 'OtherPeopleOnYourTeam', 'CompanyEmployeesOverall',\n",
       "       'DatabaseServers', 'Education', 'EducationIsComputerRelated',\n",
       "       'Certifications', 'HoursWorkedPerWeek', 'TelecommuteDaysPerWeek',\n",
       "       'NewestVersionInProduction', 'OldestVersionInProduction',\n",
       "       'PopulationOfLargestCityWithin20Miles', 'EmploymentSector',\n",
       "       'LookingForAnotherJob', 'CareerPlansThisYear', 'Gender',\n",
       "       'OtherJobDuties', 'KindsOfTasksPerformed', 'Counter'],\n",
       "      dtype='object')"
      ]
     },
     "execution_count": 3,
     "metadata": {},
     "output_type": "execute_result"
    }
   ],
   "source": [
    "## This method examine all the column names\n",
    "df.columns"
   ]
  },
  {
   "cell_type": "code",
   "execution_count": 100,
   "id": "4dd51bbb",
   "metadata": {},
   "outputs": [
    {
     "name": "stdout",
     "output_type": "stream",
     "text": [
      "<class 'pandas.core.frame.DataFrame'>\n",
      "RangeIndex: 12979 entries, 0 to 12978\n",
      "Data columns (total 31 columns):\n",
      " #   Column                                Non-Null Count  Dtype         \n",
      "---  ------                                --------------  -----         \n",
      " 0   Survey Year                           12979 non-null  int64         \n",
      " 1   Timestamp                             12979 non-null  datetime64[ns]\n",
      " 2   SalaryUSD                             12979 non-null  float64       \n",
      " 3   Country                               12979 non-null  object        \n",
      " 4   PostalCode                            10455 non-null  object        \n",
      " 5   PrimaryDatabase                       12979 non-null  object        \n",
      " 6   YearsWithThisDatabase                 12979 non-null  int64         \n",
      " 7   OtherDatabases                        10599 non-null  object        \n",
      " 8   EmploymentStatus                      12979 non-null  object        \n",
      " 9   JobTitle                              12979 non-null  object        \n",
      " 10  ManageStaff                           12979 non-null  object        \n",
      " 11  YearsWithThisTypeOfJob                12979 non-null  int64         \n",
      " 12  HowManyCompanies                      12979 non-null  object        \n",
      " 13  OtherPeopleOnYourTeam                 12979 non-null  object        \n",
      " 14  CompanyEmployeesOverall               12979 non-null  object        \n",
      " 15  DatabaseServers                       12979 non-null  object        \n",
      " 16  Education                             12979 non-null  object        \n",
      " 17  EducationIsComputerRelated            11767 non-null  object        \n",
      " 18  Certifications                        12979 non-null  object        \n",
      " 19  HoursWorkedPerWeek                    12979 non-null  object        \n",
      " 20  TelecommuteDaysPerWeek                12979 non-null  object        \n",
      " 21  NewestVersionInProduction             12965 non-null  object        \n",
      " 22  OldestVersionInProduction             12966 non-null  object        \n",
      " 23  PopulationOfLargestCityWithin20Miles  12979 non-null  object        \n",
      " 24  EmploymentSector                      12979 non-null  object        \n",
      " 25  LookingForAnotherJob                  12979 non-null  object        \n",
      " 26  CareerPlansThisYear                   12979 non-null  object        \n",
      " 27  Gender                                12979 non-null  object        \n",
      " 28  OtherJobDuties                        12361 non-null  object        \n",
      " 29  KindsOfTasksPerformed                 12774 non-null  object        \n",
      " 30  Counter                               12979 non-null  int64         \n",
      "dtypes: datetime64[ns](1), float64(1), int64(4), object(25)\n",
      "memory usage: 3.1+ MB\n"
     ]
    }
   ],
   "source": [
    "df.info()"
   ]
  },
  {
   "cell_type": "code",
   "execution_count": null,
   "id": "723fa9ff",
   "metadata": {},
   "outputs": [],
   "source": [
    "## Use dropna method removes the rows that contains NULL values\n",
    "df_atual=df.dropna()"
   ]
  },
  {
   "cell_type": "code",
   "execution_count": 78,
   "id": "2d7406c2",
   "metadata": {},
   "outputs": [
    {
     "data": {
      "text/plain": [
       "United States     0.733043\n",
       "United Kingdom    0.074351\n",
       "Canada            0.034253\n",
       "Australia         0.020389\n",
       "India             0.016855\n",
       "                    ...   \n",
       "Jersey            0.000136\n",
       "Bangladesh        0.000136\n",
       "Uruguay           0.000136\n",
       "Iran              0.000136\n",
       "Albania           0.000136\n",
       "Name: Country, Length: 77, dtype: float64"
      ]
     },
     "execution_count": 78,
     "metadata": {},
     "output_type": "execute_result"
    }
   ],
   "source": [
    "## Calculate percentage\n",
    "df_atual.Country.value_counts(normalize=True)"
   ]
  },
  {
   "cell_type": "code",
   "execution_count": 95,
   "id": "5dd5997c",
   "metadata": {},
   "outputs": [
    {
     "data": {
      "text/plain": [
       "0         United States\n",
       "3        United Kingdom\n",
       "4         United States\n",
       "8         United States\n",
       "9                Turkey\n",
       "              ...      \n",
       "12970    United Kingdom\n",
       "12971       Netherlands\n",
       "12974            France\n",
       "12976           Germany\n",
       "12978     United States\n",
       "Name: Country, Length: 7357, dtype: object"
      ]
     },
     "execution_count": 95,
     "metadata": {},
     "output_type": "execute_result"
    }
   ],
   "source": [
    "country=df_atual.Country\n",
    "country"
   ]
  },
  {
   "cell_type": "code",
   "execution_count": 90,
   "id": "e56bad64",
   "metadata": {},
   "outputs": [
    {
     "data": {
      "text/plain": [
       "United States     5393\n",
       "United Kingdom     547\n",
       "Canada             252\n",
       "Australia          150\n",
       "India              124\n",
       "                  ... \n",
       "Jersey               1\n",
       "Bangladesh           1\n",
       "Uruguay              1\n",
       "Iran                 1\n",
       "Albania              1\n",
       "Name: Country, Length: 77, dtype: int64"
      ]
     },
     "execution_count": 90,
     "metadata": {},
     "output_type": "execute_result"
    }
   ],
   "source": [
    "cant_country=country.value_counts()\n",
    "cant_country"
   ]
  },
  {
   "cell_type": "code",
   "execution_count": 99,
   "id": "389defe0",
   "metadata": {},
   "outputs": [
    {
     "data": {
      "text/plain": [
       "United States     73.3%\n",
       "United Kingdom     7.4%\n",
       "Canada             3.4%\n",
       "Australia          2.0%\n",
       "India              1.7%\n",
       "                  ...  \n",
       "Jersey             0.0%\n",
       "Bangladesh         0.0%\n",
       "Uruguay            0.0%\n",
       "Iran               0.0%\n",
       "Albania            0.0%\n",
       "Name: Country, Length: 77, dtype: object"
      ]
     },
     "execution_count": 99,
     "metadata": {},
     "output_type": "execute_result"
    }
   ],
   "source": [
    "percent_country=country.value_counts(normalize=True).mul(100).round(1).astype(str) + '%'\n",
    "percent_country"
   ]
  },
  {
   "cell_type": "code",
   "execution_count": 109,
   "id": "be40da09",
   "metadata": {},
   "outputs": [
    {
     "name": "stdout",
     "output_type": "stream",
     "text": [
      "104369 USD\n"
     ]
    }
   ],
   "source": [
    "## Calculate mean\n",
    "salary=df_atual['SalaryUSD']\n",
    "print(\"%.0f\" % salary.mean() + \" USD\")"
   ]
  },
  {
   "cell_type": "code",
   "execution_count": 5,
   "id": "82358626",
   "metadata": {},
   "outputs": [
    {
     "name": "stderr",
     "output_type": "stream",
     "text": [
      "C:\\Users\\55119\\AppData\\Local\\Temp\\ipykernel_7048\\3855453156.py:8: SettingWithCopyWarning: \n",
      "A value is trying to be set on a copy of a slice from a DataFrame.\n",
      "Try using .loc[row_indexer,col_indexer] = value instead\n",
      "\n",
      "See the caveats in the documentation: https://pandas.pydata.org/pandas-docs/stable/user_guide/indexing.html#returning-a-view-versus-a-copy\n",
      "  df_model['YearsWithThisDatabase']=df_model['YearsWithThisDatabase'].astype(str).astype(int)\n",
      "C:\\Users\\55119\\AppData\\Local\\Temp\\ipykernel_7048\\3855453156.py:9: SettingWithCopyWarning: \n",
      "A value is trying to be set on a copy of a slice from a DataFrame.\n",
      "Try using .loc[row_indexer,col_indexer] = value instead\n",
      "\n",
      "See the caveats in the documentation: https://pandas.pydata.org/pandas-docs/stable/user_guide/indexing.html#returning-a-view-versus-a-copy\n",
      "  df_model['SalaryUSD']=df_model['SalaryUSD'].astype(str).astype(float)\n"
     ]
    }
   ],
   "source": [
    "\n",
    "## Choose the columns YearWithThisDatabase and SalaryUSD\n",
    "cols = ['YearsWithThisDatabase','SalaryUSD']\n",
    "df_model = df_atual[cols]\n",
    "\n",
    "## Use method astype in both \n",
    "df_model['YearsWithThisDatabase']=df_model['YearsWithThisDatabase'].astype(str).astype(int)\n",
    "df_model['SalaryUSD']=df_model['SalaryUSD'].astype(str).astype(float)\n",
    "\n"
   ]
  },
  {
   "cell_type": "code",
   "execution_count": 6,
   "id": "7b551159",
   "metadata": {},
   "outputs": [
    {
     "name": "stdout",
     "output_type": "stream",
     "text": [
      "<class 'pandas.core.frame.DataFrame'>\n",
      "Int64Index: 7357 entries, 0 to 12978\n",
      "Data columns (total 2 columns):\n",
      " #   Column                 Non-Null Count  Dtype  \n",
      "---  ------                 --------------  -----  \n",
      " 0   YearsWithThisDatabase  7357 non-null   int32  \n",
      " 1   SalaryUSD              7357 non-null   float64\n",
      "dtypes: float64(1), int32(1)\n",
      "memory usage: 143.7 KB\n"
     ]
    }
   ],
   "source": [
    "## See again the dataframe that we work\n",
    "df_model.info()"
   ]
  },
  {
   "cell_type": "code",
   "execution_count": 7,
   "id": "df9ee00c",
   "metadata": {},
   "outputs": [],
   "source": [
    "## Select and define the variable depent and indepent \n",
    "## Remember de equation y = mx+ b\n",
    "\n",
    "# YearsWithThisDatabase\n",
    "X=df_model.iloc[:, :-1]\n",
    "\n",
    "# SalaryUSD\n",
    "y=df_model.iloc[:, -1]\n"
   ]
  },
  {
   "cell_type": "code",
   "execution_count": 8,
   "id": "ffcdf952",
   "metadata": {},
   "outputs": [],
   "source": [
    "# Choice data for training\n",
    "X_train, X_test, y_train, y_test= ms.train_test_split(X, y,test_size=0.4, random_state=23)\n"
   ]
  },
  {
   "cell_type": "code",
   "execution_count": 9,
   "id": "fcb522db",
   "metadata": {},
   "outputs": [
    {
     "data": {
      "text/plain": [
       "array([[21],\n",
       "       [20],\n",
       "       [10],\n",
       "       ...,\n",
       "       [10],\n",
       "       [12],\n",
       "       [15]])"
      ]
     },
     "execution_count": 9,
     "metadata": {},
     "output_type": "execute_result"
    }
   ],
   "source": [
    "X_train = np.array(X_train).reshape(-1,1)\n",
    "X_train"
   ]
  },
  {
   "cell_type": "code",
   "execution_count": 10,
   "id": "f2d93ba4",
   "metadata": {},
   "outputs": [
    {
     "data": {
      "text/plain": [
       "array([[18],\n",
       "       [10],\n",
       "       [ 6],\n",
       "       ...,\n",
       "       [20],\n",
       "       [ 3],\n",
       "       [14]])"
      ]
     },
     "execution_count": 10,
     "metadata": {},
     "output_type": "execute_result"
    }
   ],
   "source": [
    "X_test = np.array(X_test).reshape(-1,1)\n",
    "X_test"
   ]
  },
  {
   "cell_type": "code",
   "execution_count": 11,
   "id": "2cb20ae1",
   "metadata": {},
   "outputs": [
    {
     "data": {
      "text/html": [
       "<style>#sk-container-id-1 {color: black;}#sk-container-id-1 pre{padding: 0;}#sk-container-id-1 div.sk-toggleable {background-color: white;}#sk-container-id-1 label.sk-toggleable__label {cursor: pointer;display: block;width: 100%;margin-bottom: 0;padding: 0.3em;box-sizing: border-box;text-align: center;}#sk-container-id-1 label.sk-toggleable__label-arrow:before {content: \"▸\";float: left;margin-right: 0.25em;color: #696969;}#sk-container-id-1 label.sk-toggleable__label-arrow:hover:before {color: black;}#sk-container-id-1 div.sk-estimator:hover label.sk-toggleable__label-arrow:before {color: black;}#sk-container-id-1 div.sk-toggleable__content {max-height: 0;max-width: 0;overflow: hidden;text-align: left;background-color: #f0f8ff;}#sk-container-id-1 div.sk-toggleable__content pre {margin: 0.2em;color: black;border-radius: 0.25em;background-color: #f0f8ff;}#sk-container-id-1 input.sk-toggleable__control:checked~div.sk-toggleable__content {max-height: 200px;max-width: 100%;overflow: auto;}#sk-container-id-1 input.sk-toggleable__control:checked~label.sk-toggleable__label-arrow:before {content: \"▾\";}#sk-container-id-1 div.sk-estimator input.sk-toggleable__control:checked~label.sk-toggleable__label {background-color: #d4ebff;}#sk-container-id-1 div.sk-label input.sk-toggleable__control:checked~label.sk-toggleable__label {background-color: #d4ebff;}#sk-container-id-1 input.sk-hidden--visually {border: 0;clip: rect(1px 1px 1px 1px);clip: rect(1px, 1px, 1px, 1px);height: 1px;margin: -1px;overflow: hidden;padding: 0;position: absolute;width: 1px;}#sk-container-id-1 div.sk-estimator {font-family: monospace;background-color: #f0f8ff;border: 1px dotted black;border-radius: 0.25em;box-sizing: border-box;margin-bottom: 0.5em;}#sk-container-id-1 div.sk-estimator:hover {background-color: #d4ebff;}#sk-container-id-1 div.sk-parallel-item::after {content: \"\";width: 100%;border-bottom: 1px solid gray;flex-grow: 1;}#sk-container-id-1 div.sk-label:hover label.sk-toggleable__label {background-color: #d4ebff;}#sk-container-id-1 div.sk-serial::before {content: \"\";position: absolute;border-left: 1px solid gray;box-sizing: border-box;top: 0;bottom: 0;left: 50%;z-index: 0;}#sk-container-id-1 div.sk-serial {display: flex;flex-direction: column;align-items: center;background-color: white;padding-right: 0.2em;padding-left: 0.2em;position: relative;}#sk-container-id-1 div.sk-item {position: relative;z-index: 1;}#sk-container-id-1 div.sk-parallel {display: flex;align-items: stretch;justify-content: center;background-color: white;position: relative;}#sk-container-id-1 div.sk-item::before, #sk-container-id-1 div.sk-parallel-item::before {content: \"\";position: absolute;border-left: 1px solid gray;box-sizing: border-box;top: 0;bottom: 0;left: 50%;z-index: -1;}#sk-container-id-1 div.sk-parallel-item {display: flex;flex-direction: column;z-index: 1;position: relative;background-color: white;}#sk-container-id-1 div.sk-parallel-item:first-child::after {align-self: flex-end;width: 50%;}#sk-container-id-1 div.sk-parallel-item:last-child::after {align-self: flex-start;width: 50%;}#sk-container-id-1 div.sk-parallel-item:only-child::after {width: 0;}#sk-container-id-1 div.sk-dashed-wrapped {border: 1px dashed gray;margin: 0 0.4em 0.5em 0.4em;box-sizing: border-box;padding-bottom: 0.4em;background-color: white;}#sk-container-id-1 div.sk-label label {font-family: monospace;font-weight: bold;display: inline-block;line-height: 1.2em;}#sk-container-id-1 div.sk-label-container {text-align: center;}#sk-container-id-1 div.sk-container {/* jupyter's `normalize.less` sets `[hidden] { display: none; }` but bootstrap.min.css set `[hidden] { display: none !important; }` so we also need the `!important` here to be able to override the default hidden behavior on the sphinx rendered scikit-learn.org. See: https://github.com/scikit-learn/scikit-learn/issues/21755 */display: inline-block !important;position: relative;}#sk-container-id-1 div.sk-text-repr-fallback {display: none;}</style><div id=\"sk-container-id-1\" class=\"sk-top-container\"><div class=\"sk-text-repr-fallback\"><pre>LinearRegression()</pre><b>In a Jupyter environment, please rerun this cell to show the HTML representation or trust the notebook. <br />On GitHub, the HTML representation is unable to render, please try loading this page with nbviewer.org.</b></div><div class=\"sk-container\" hidden><div class=\"sk-item\"><div class=\"sk-estimator sk-toggleable\"><input class=\"sk-toggleable__control sk-hidden--visually\" id=\"sk-estimator-id-1\" type=\"checkbox\" checked><label for=\"sk-estimator-id-1\" class=\"sk-toggleable__label sk-toggleable__label-arrow\">LinearRegression</label><div class=\"sk-toggleable__content\"><pre>LinearRegression()</pre></div></div></div></div></div>"
      ],
      "text/plain": [
       "LinearRegression()"
      ]
     },
     "execution_count": 11,
     "metadata": {},
     "output_type": "execute_result"
    }
   ],
   "source": [
    "#Train the model\n",
    "lm = LinearRegression()\n",
    "lm.fit(X_train, y_train)"
   ]
  },
  {
   "cell_type": "code",
   "execution_count": 12,
   "id": "58a4751d",
   "metadata": {},
   "outputs": [
    {
     "data": {
      "text/plain": [
       "array([103350.33210314, 103332.95466784, 103159.18031478, ...,\n",
       "       103159.18031478, 103193.93518539, 103246.06749131])"
      ]
     },
     "execution_count": 12,
     "metadata": {},
     "output_type": "execute_result"
    }
   ],
   "source": [
    "## Prediction\n",
    "y_pred = lm.predict(X_train)\n",
    "y_pred"
   ]
  },
  {
   "cell_type": "code",
   "execution_count": 110,
   "id": "a34b2746",
   "metadata": {},
   "outputs": [
    {
     "data": {
      "image/png": "[encoded data removed]",
      "text/plain": [
       "<Figure size 2000x1000 with 1 Axes>"
      ]
     },
     "metadata": {},
     "output_type": "display_data"
    }
   ],
   "source": [
    "## Visualization the train\n",
    "plt.figure(figsize=(20,10))\n",
    "plt.scatter(X_train, y_train, color = 'purple', s=100)\n",
    "plt.plot(X_train, lm.predict(X_train), color = 'red')#, scaley=False)\n",
    "plt.xlabel(\"Salary\")\n",
    "plt.ylabel(\"Years_Experience\")\n",
    "plt.title('Train')\n",
    "plt.show()"
   ]
  },
  {
   "cell_type": "code",
   "execution_count": 14,
   "id": "a7b75acd",
   "metadata": {},
   "outputs": [
    {
     "data": {
      "text/plain": [
       "array([103298.19979723, 103159.18031478, 103089.67057355, ...,\n",
       "       103332.95466784, 103037.53826764, 103228.690056  ])"
      ]
     },
     "execution_count": 14,
     "metadata": {},
     "output_type": "execute_result"
    }
   ],
   "source": [
    "## Prediction test\n",
    "y_pred_test = lm.predict(X_test)\n",
    "y_pred_test"
   ]
  },
  {
   "cell_type": "code",
   "execution_count": 35,
   "id": "9c9e77c2",
   "metadata": {},
   "outputs": [
    {
     "data": {
      "image/png": "[encoded data removed]",
      "text/plain": [
       "<Figure size 2000x1000 with 1 Axes>"
      ]
     },
     "metadata": {},
     "output_type": "display_data"
    }
   ],
   "source": [
    "## Visualization the teste\n",
    "plt.figure(figsize=(20,10))\n",
    "plt.scatter(X_test, y_test, color = 'green', s=100)\n",
    "plt.plot(X_test, y_pred_test, color = 'red', scaley=False)\n",
    "plt.xlabel(\"Salary\")\n",
    "plt.ylabel(\"Years_Experience\")\n",
    "plt.title('Test')\n",
    "plt.show()\n"
   ]
  },
  {
   "cell_type": "code",
   "execution_count": 17,
   "id": "f49e0d20",
   "metadata": {},
   "outputs": [
    {
     "name": "stdout",
     "output_type": "stream",
     "text": [
      "103159.18\n"
     ]
    }
   ],
   "source": [
    "## Values specific\n",
    "print(\"%.2f\" % lm.predict([[10]]))"
   ]
  },
  {
   "cell_type": "code",
   "execution_count": null,
   "id": "a9879a5e",
   "metadata": {},
   "outputs": [],
   "source": []
  }
 ],
 "metadata": {
  "kernelspec": {
   "display_name": "Python 3 (ipykernel)",
   "language": "python",
   "name": "python3"
  },
  "language_info": {
   "codemirror_mode": {
    "name": "ipython",
    "version": 3
   },
   "file_extension": ".py",
   "mimetype": "text/x-python",
   "name": "python",
   "nbconvert_exporter": "python",
   "pygments_lexer": "ipython3",
   "version": "3.11.4"
  }
 },
 "nbformat": 4,
 "nbformat_minor": 5
}
